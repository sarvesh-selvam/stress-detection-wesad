{
 "cells": [
  {
   "cell_type": "markdown",
   "id": "193d215f",
   "metadata": {},
   "source": [
    "# Modeling"
   ]
  },
  {
   "cell_type": "code",
   "execution_count": 1,
   "id": "bc152e52",
   "metadata": {},
   "outputs": [],
   "source": [
    "import pandas as pd\n",
    "import numpy as np\n",
    "from glob import glob\n",
    "from sklearn.ensemble import RandomForestClassifier\n",
    "from sklearn.metrics import accuracy_score, f1_score, classification_report\n",
    "\n",
    "import warnings\n",
    "warnings.filterwarnings(\"ignore\", category=UserWarning)"
   ]
  },
  {
   "cell_type": "code",
   "execution_count": 2,
   "id": "5e671969",
   "metadata": {},
   "outputs": [],
   "source": [
    "# Step 1: Load all feature CSVs\n",
    "\n",
    "file_paths = sorted(glob(\"/Users/sarvesh/Desktop/stress-detection-wesad/data/features/S*_features.csv\")) \n",
    "subject_ids = [f.split(\"/\")[-1].split(\"_\")[0] for f in file_paths]"
   ]
  },
  {
   "cell_type": "code",
   "execution_count": 3,
   "id": "aa38bc6e",
   "metadata": {},
   "outputs": [],
   "source": [
    "# Step 2: Track metrics\n",
    "accuracies = []\n",
    "f1s = []\n",
    "per_subject_reports = {}"
   ]
  },
  {
   "cell_type": "code",
   "execution_count": 4,
   "id": "8108b658",
   "metadata": {},
   "outputs": [
    {
     "name": "stdout",
     "output_type": "stream",
     "text": [
      "\n",
      "🔄 Testing on S10 (LOSO fold 1/15)\n",
      "✅ Accuracy: 0.8800 | F1 (weighted): 0.8502\n",
      "\n",
      "🔄 Testing on S11 (LOSO fold 2/15)\n",
      "✅ Accuracy: 0.8553 | F1 (weighted): 0.8431\n",
      "\n",
      "🔄 Testing on S13 (LOSO fold 3/15)\n",
      "✅ Accuracy: 0.9733 | F1 (weighted): 0.9728\n",
      "\n",
      "🔄 Testing on S14 (LOSO fold 4/15)\n",
      "✅ Accuracy: 0.8000 | F1 (weighted): 0.7496\n",
      "\n",
      "🔄 Testing on S15 (LOSO fold 5/15)\n",
      "✅ Accuracy: 0.8667 | F1 (weighted): 0.8646\n",
      "\n",
      "🔄 Testing on S16 (LOSO fold 6/15)\n",
      "✅ Accuracy: 0.9178 | F1 (weighted): 0.9090\n",
      "\n",
      "🔄 Testing on S17 (LOSO fold 7/15)\n",
      "✅ Accuracy: 0.9333 | F1 (weighted): 0.9297\n",
      "\n",
      "🔄 Testing on S2 (LOSO fold 8/15)\n",
      "✅ Accuracy: 0.5634 | F1 (weighted): 0.5403\n",
      "\n",
      "🔄 Testing on S3 (LOSO fold 9/15)\n",
      "✅ Accuracy: 0.5890 | F1 (weighted): 0.5795\n",
      "\n",
      "🔄 Testing on S4 (LOSO fold 10/15)\n",
      "✅ Accuracy: 0.8611 | F1 (weighted): 0.8405\n",
      "\n",
      "🔄 Testing on S5 (LOSO fold 11/15)\n",
      "✅ Accuracy: 0.7808 | F1 (weighted): 0.7679\n",
      "\n",
      "🔄 Testing on S6 (LOSO fold 12/15)\n",
      "✅ Accuracy: 0.8356 | F1 (weighted): 0.7644\n",
      "\n",
      "🔄 Testing on S7 (LOSO fold 13/15)\n",
      "✅ Accuracy: 0.6438 | F1 (weighted): 0.6555\n",
      "\n",
      "🔄 Testing on S8 (LOSO fold 14/15)\n",
      "✅ Accuracy: 0.7973 | F1 (weighted): 0.7737\n",
      "\n",
      "🔄 Testing on S9 (LOSO fold 15/15)\n",
      "✅ Accuracy: 0.8333 | F1 (weighted): 0.7685\n"
     ]
    }
   ],
   "source": [
    "# Step 3: LOSO loop\n",
    "for i, test_subj in enumerate(subject_ids):\n",
    "    print(f\"\\n🔄 Testing on {test_subj} (LOSO fold {i+1}/{len(subject_ids)})\")\n",
    "\n",
    "    test_df = pd.read_csv(file_paths[i])\n",
    "    train_dfs = [pd.read_csv(f) for j, f in enumerate(file_paths) if j != i]\n",
    "    train_df = pd.concat(train_dfs, ignore_index=True)\n",
    "\n",
    "    # ✅ Filter only labels 1, 2, 3 and shift to 0-indexed for classifier\n",
    "    valid_labels = [1, 2, 3]\n",
    "    train_df = train_df[train_df['label'].isin(valid_labels)]\n",
    "    test_df = test_df[test_df['label'].isin(valid_labels)]\n",
    "\n",
    "    # Shift labels: 1→0, 2→1, 3→2\n",
    "    train_df['label'] = train_df['label'] - 1\n",
    "    test_df['label'] = test_df['label'] - 1\n",
    "\n",
    "    X_train, y_train = train_df.drop(columns=['label']), train_df['label']\n",
    "    X_test, y_test = test_df.drop(columns=['label']), test_df['label']\n",
    "\n",
    "    # Step 4: Train model\n",
    "    model = RandomForestClassifier(n_estimators=30, random_state=42)\n",
    "    model.fit(X_train, y_train)\n",
    "\n",
    "    # Step 5: Evaluate\n",
    "    y_pred = model.predict(X_test)\n",
    "    acc = accuracy_score(y_test, y_pred)\n",
    "    f1 = f1_score(y_test, y_pred, average='weighted')\n",
    "\n",
    "    # Map labels back to 1–3 for reporting\n",
    "    y_pred_orig = y_pred + 1\n",
    "    y_test_orig = y_test + 1\n",
    "\n",
    "    class_names = ['Baseline (1)', 'Stress (2)', 'Amusement (3)']\n",
    "    # print(classification_report(y_test_orig, y_pred_orig, target_names=class_names))\n",
    "\n",
    "    accuracies.append(acc)\n",
    "    f1s.append(f1)\n",
    "    per_subject_reports[test_subj] = classification_report(y_test_orig, y_pred_orig, output_dict=True)\n",
    "\n",
    "    print(f\"✅ Accuracy: {acc:.4f} | F1 (weighted): {f1:.4f}\")\n",
    "\n"
   ]
  },
  {
   "cell_type": "code",
   "execution_count": 5,
   "id": "66f12724",
   "metadata": {},
   "outputs": [
    {
     "name": "stdout",
     "output_type": "stream",
     "text": [
      "\n",
      "📊 LOSO Summary:\n",
      "Mean Accuracy: 0.8087\n",
      "Mean F1 Score: 0.7873\n"
     ]
    }
   ],
   "source": [
    "# Step 6: Summary\n",
    "print(\"\\n📊 LOSO Summary:\")\n",
    "print(f\"Mean Accuracy: {np.mean(accuracies):.4f}\")\n",
    "print(f\"Mean F1 Score: {np.mean(f1s):.4f}\")"
   ]
  },
  {
   "cell_type": "code",
   "execution_count": 6,
   "id": "6aa5448f",
   "metadata": {},
   "outputs": [
    {
     "data": {
      "image/png": "[encoded data removed]",
      "text/plain": [
       "<Figure size 1000x500 with 1 Axes>"
      ]
     },
     "metadata": {},
     "output_type": "display_data"
    }
   ],
   "source": [
    "import matplotlib.pyplot as plt\n",
    "\n",
    "plt.figure(figsize=(10, 5))\n",
    "plt.bar(subject_ids, accuracies)\n",
    "plt.title(\"LOSO Accuracy per Subject\")\n",
    "plt.ylabel(\"Accuracy\")\n",
    "plt.xlabel(\"Subject\")\n",
    "plt.xticks(rotation=45)\n",
    "plt.ylim(0, 1.05)\n",
    "plt.grid(axis=\"y\", linestyle=\"--\", alpha=0.5)\n",
    "plt.show()\n"
   ]
  },
  {
   "cell_type": "markdown",
   "id": "0dc42aa1",
   "metadata": {},
   "source": []
  },
  {
   "cell_type": "code",
   "execution_count": 7,
   "id": "b37a7ed8",
   "metadata": {},
   "outputs": [
    {
     "data": {
      "text/plain": [
       "eda_mean               0.325036\n",
       "eda_peak_count         0.197939\n",
       "resp_std               0.150090\n",
       "eda_std                0.074152\n",
       "eda_slope              0.071363\n",
       "mean_rr                0.058861\n",
       "ecg_peak_count         0.037914\n",
       "resp_zero_crossings    0.037522\n",
       "rmssd                  0.019035\n",
       "resp_mean              0.015995\n",
       "dtype: float64"
      ]
     },
     "execution_count": 7,
     "metadata": {},
     "output_type": "execute_result"
    }
   ],
   "source": [
    "importances = model.feature_importances_  # only for tree-based models\n",
    "pd.Series(importances, index=X_train.columns).sort_values(ascending=False).head(10)\n"
   ]
  },
  {
   "cell_type": "markdown",
   "id": "b0c2ac74",
   "metadata": {},
   "source": []
  },
  {
   "cell_type": "code",
   "execution_count": 8,
   "id": "71d9c9c8",
   "metadata": {},
   "outputs": [
    {
     "name": "stdout",
     "output_type": "stream",
     "text": [
      "\n",
      "🔄 Testing on S10 (LOSO fold 1/15)\n"
     ]
    },
    {
     "name": "stderr",
     "output_type": "stream",
     "text": [
      "/Users/sarvesh/anaconda3/envs/datasci/lib/python3.10/site-packages/sklearn/metrics/_classification.py:1531: UndefinedMetricWarning: Precision is ill-defined and being set to 0.0 in labels with no predicted samples. Use `zero_division` parameter to control this behavior.\n",
      "  _warn_prf(average, modifier, f\"{metric.capitalize()} is\", len(result))\n",
      "/Users/sarvesh/anaconda3/envs/datasci/lib/python3.10/site-packages/sklearn/metrics/_classification.py:1531: UndefinedMetricWarning: Precision is ill-defined and being set to 0.0 in labels with no predicted samples. Use `zero_division` parameter to control this behavior.\n",
      "  _warn_prf(average, modifier, f\"{metric.capitalize()} is\", len(result))\n",
      "/Users/sarvesh/anaconda3/envs/datasci/lib/python3.10/site-packages/sklearn/metrics/_classification.py:1531: UndefinedMetricWarning: Precision is ill-defined and being set to 0.0 in labels with no predicted samples. Use `zero_division` parameter to control this behavior.\n",
      "  _warn_prf(average, modifier, f\"{metric.capitalize()} is\", len(result))\n"
     ]
    },
    {
     "name": "stdout",
     "output_type": "stream",
     "text": [
      "✅ Accuracy: 0.7418 | F1 (weighted): 0.7028\n",
      "\n",
      "🔄 Testing on S11 (LOSO fold 2/15)\n"
     ]
    },
    {
     "name": "stderr",
     "output_type": "stream",
     "text": [
      "/Users/sarvesh/anaconda3/envs/datasci/lib/python3.10/site-packages/sklearn/metrics/_classification.py:1531: UndefinedMetricWarning: Precision is ill-defined and being set to 0.0 in labels with no predicted samples. Use `zero_division` parameter to control this behavior.\n",
      "  _warn_prf(average, modifier, f\"{metric.capitalize()} is\", len(result))\n",
      "/Users/sarvesh/anaconda3/envs/datasci/lib/python3.10/site-packages/sklearn/metrics/_classification.py:1531: UndefinedMetricWarning: Precision is ill-defined and being set to 0.0 in labels with no predicted samples. Use `zero_division` parameter to control this behavior.\n",
      "  _warn_prf(average, modifier, f\"{metric.capitalize()} is\", len(result))\n",
      "/Users/sarvesh/anaconda3/envs/datasci/lib/python3.10/site-packages/sklearn/metrics/_classification.py:1531: UndefinedMetricWarning: Precision is ill-defined and being set to 0.0 in labels with no predicted samples. Use `zero_division` parameter to control this behavior.\n",
      "  _warn_prf(average, modifier, f\"{metric.capitalize()} is\", len(result))\n"
     ]
    },
    {
     "name": "stdout",
     "output_type": "stream",
     "text": [
      "✅ Accuracy: 0.6647 | F1 (weighted): 0.6366\n",
      "\n",
      "🔄 Testing on S13 (LOSO fold 3/15)\n"
     ]
    },
    {
     "name": "stderr",
     "output_type": "stream",
     "text": [
      "/Users/sarvesh/anaconda3/envs/datasci/lib/python3.10/site-packages/sklearn/metrics/_classification.py:1531: UndefinedMetricWarning: Precision is ill-defined and being set to 0.0 in labels with no predicted samples. Use `zero_division` parameter to control this behavior.\n",
      "  _warn_prf(average, modifier, f\"{metric.capitalize()} is\", len(result))\n",
      "/Users/sarvesh/anaconda3/envs/datasci/lib/python3.10/site-packages/sklearn/metrics/_classification.py:1531: UndefinedMetricWarning: Precision is ill-defined and being set to 0.0 in labels with no predicted samples. Use `zero_division` parameter to control this behavior.\n",
      "  _warn_prf(average, modifier, f\"{metric.capitalize()} is\", len(result))\n",
      "/Users/sarvesh/anaconda3/envs/datasci/lib/python3.10/site-packages/sklearn/metrics/_classification.py:1531: UndefinedMetricWarning: Precision is ill-defined and being set to 0.0 in labels with no predicted samples. Use `zero_division` parameter to control this behavior.\n",
      "  _warn_prf(average, modifier, f\"{metric.capitalize()} is\", len(result))\n"
     ]
    },
    {
     "name": "stdout",
     "output_type": "stream",
     "text": [
      "✅ Accuracy: 0.7213 | F1 (weighted): 0.6749\n",
      "\n",
      "🔄 Testing on S14 (LOSO fold 4/15)\n"
     ]
    },
    {
     "name": "stderr",
     "output_type": "stream",
     "text": [
      "/Users/sarvesh/anaconda3/envs/datasci/lib/python3.10/site-packages/sklearn/metrics/_classification.py:1531: UndefinedMetricWarning: Precision is ill-defined and being set to 0.0 in labels with no predicted samples. Use `zero_division` parameter to control this behavior.\n",
      "  _warn_prf(average, modifier, f\"{metric.capitalize()} is\", len(result))\n",
      "/Users/sarvesh/anaconda3/envs/datasci/lib/python3.10/site-packages/sklearn/metrics/_classification.py:1531: UndefinedMetricWarning: Precision is ill-defined and being set to 0.0 in labels with no predicted samples. Use `zero_division` parameter to control this behavior.\n",
      "  _warn_prf(average, modifier, f\"{metric.capitalize()} is\", len(result))\n",
      "/Users/sarvesh/anaconda3/envs/datasci/lib/python3.10/site-packages/sklearn/metrics/_classification.py:1531: UndefinedMetricWarning: Precision is ill-defined and being set to 0.0 in labels with no predicted samples. Use `zero_division` parameter to control this behavior.\n",
      "  _warn_prf(average, modifier, f\"{metric.capitalize()} is\", len(result))\n"
     ]
    },
    {
     "name": "stdout",
     "output_type": "stream",
     "text": [
      "✅ Accuracy: 0.5519 | F1 (weighted): 0.4882\n",
      "\n",
      "🔄 Testing on S15 (LOSO fold 5/15)\n"
     ]
    },
    {
     "name": "stderr",
     "output_type": "stream",
     "text": [
      "/Users/sarvesh/anaconda3/envs/datasci/lib/python3.10/site-packages/sklearn/metrics/_classification.py:1531: UndefinedMetricWarning: Precision is ill-defined and being set to 0.0 in labels with no predicted samples. Use `zero_division` parameter to control this behavior.\n",
      "  _warn_prf(average, modifier, f\"{metric.capitalize()} is\", len(result))\n",
      "/Users/sarvesh/anaconda3/envs/datasci/lib/python3.10/site-packages/sklearn/metrics/_classification.py:1531: UndefinedMetricWarning: Precision is ill-defined and being set to 0.0 in labels with no predicted samples. Use `zero_division` parameter to control this behavior.\n",
      "  _warn_prf(average, modifier, f\"{metric.capitalize()} is\", len(result))\n",
      "/Users/sarvesh/anaconda3/envs/datasci/lib/python3.10/site-packages/sklearn/metrics/_classification.py:1531: UndefinedMetricWarning: Precision is ill-defined and being set to 0.0 in labels with no predicted samples. Use `zero_division` parameter to control this behavior.\n",
      "  _warn_prf(average, modifier, f\"{metric.capitalize()} is\", len(result))\n"
     ]
    },
    {
     "name": "stdout",
     "output_type": "stream",
     "text": [
      "✅ Accuracy: 0.6149 | F1 (weighted): 0.5397\n",
      "\n",
      "🔄 Testing on S16 (LOSO fold 6/15)\n"
     ]
    },
    {
     "name": "stderr",
     "output_type": "stream",
     "text": [
      "/Users/sarvesh/anaconda3/envs/datasci/lib/python3.10/site-packages/sklearn/metrics/_classification.py:1531: UndefinedMetricWarning: Precision is ill-defined and being set to 0.0 in labels with no predicted samples. Use `zero_division` parameter to control this behavior.\n",
      "  _warn_prf(average, modifier, f\"{metric.capitalize()} is\", len(result))\n",
      "/Users/sarvesh/anaconda3/envs/datasci/lib/python3.10/site-packages/sklearn/metrics/_classification.py:1531: UndefinedMetricWarning: Precision is ill-defined and being set to 0.0 in labels with no predicted samples. Use `zero_division` parameter to control this behavior.\n",
      "  _warn_prf(average, modifier, f\"{metric.capitalize()} is\", len(result))\n",
      "/Users/sarvesh/anaconda3/envs/datasci/lib/python3.10/site-packages/sklearn/metrics/_classification.py:1531: UndefinedMetricWarning: Precision is ill-defined and being set to 0.0 in labels with no predicted samples. Use `zero_division` parameter to control this behavior.\n",
      "  _warn_prf(average, modifier, f\"{metric.capitalize()} is\", len(result))\n"
     ]
    },
    {
     "name": "stdout",
     "output_type": "stream",
     "text": [
      "✅ Accuracy: 0.7043 | F1 (weighted): 0.6612\n",
      "\n",
      "🔄 Testing on S17 (LOSO fold 7/15)\n"
     ]
    },
    {
     "name": "stderr",
     "output_type": "stream",
     "text": [
      "/Users/sarvesh/anaconda3/envs/datasci/lib/python3.10/site-packages/sklearn/metrics/_classification.py:1531: UndefinedMetricWarning: Precision is ill-defined and being set to 0.0 in labels with no predicted samples. Use `zero_division` parameter to control this behavior.\n",
      "  _warn_prf(average, modifier, f\"{metric.capitalize()} is\", len(result))\n",
      "/Users/sarvesh/anaconda3/envs/datasci/lib/python3.10/site-packages/sklearn/metrics/_classification.py:1531: UndefinedMetricWarning: Precision is ill-defined and being set to 0.0 in labels with no predicted samples. Use `zero_division` parameter to control this behavior.\n",
      "  _warn_prf(average, modifier, f\"{metric.capitalize()} is\", len(result))\n",
      "/Users/sarvesh/anaconda3/envs/datasci/lib/python3.10/site-packages/sklearn/metrics/_classification.py:1531: UndefinedMetricWarning: Precision is ill-defined and being set to 0.0 in labels with no predicted samples. Use `zero_division` parameter to control this behavior.\n",
      "  _warn_prf(average, modifier, f\"{metric.capitalize()} is\", len(result))\n"
     ]
    },
    {
     "name": "stdout",
     "output_type": "stream",
     "text": [
      "✅ Accuracy: 0.6122 | F1 (weighted): 0.5831\n",
      "\n",
      "🔄 Testing on S2 (LOSO fold 8/15)\n"
     ]
    },
    {
     "name": "stderr",
     "output_type": "stream",
     "text": [
      "/Users/sarvesh/anaconda3/envs/datasci/lib/python3.10/site-packages/sklearn/metrics/_classification.py:1531: UndefinedMetricWarning: Precision is ill-defined and being set to 0.0 in labels with no predicted samples. Use `zero_division` parameter to control this behavior.\n",
      "  _warn_prf(average, modifier, f\"{metric.capitalize()} is\", len(result))\n",
      "/Users/sarvesh/anaconda3/envs/datasci/lib/python3.10/site-packages/sklearn/metrics/_classification.py:1531: UndefinedMetricWarning: Precision is ill-defined and being set to 0.0 in labels with no predicted samples. Use `zero_division` parameter to control this behavior.\n",
      "  _warn_prf(average, modifier, f\"{metric.capitalize()} is\", len(result))\n",
      "/Users/sarvesh/anaconda3/envs/datasci/lib/python3.10/site-packages/sklearn/metrics/_classification.py:1531: UndefinedMetricWarning: Precision is ill-defined and being set to 0.0 in labels with no predicted samples. Use `zero_division` parameter to control this behavior.\n",
      "  _warn_prf(average, modifier, f\"{metric.capitalize()} is\", len(result))\n"
     ]
    },
    {
     "name": "stdout",
     "output_type": "stream",
     "text": [
      "✅ Accuracy: 0.4975 | F1 (weighted): 0.4006\n",
      "\n",
      "🔄 Testing on S3 (LOSO fold 9/15)\n"
     ]
    },
    {
     "name": "stderr",
     "output_type": "stream",
     "text": [
      "/Users/sarvesh/anaconda3/envs/datasci/lib/python3.10/site-packages/sklearn/metrics/_classification.py:1531: UndefinedMetricWarning: Precision is ill-defined and being set to 0.0 in labels with no predicted samples. Use `zero_division` parameter to control this behavior.\n",
      "  _warn_prf(average, modifier, f\"{metric.capitalize()} is\", len(result))\n",
      "/Users/sarvesh/anaconda3/envs/datasci/lib/python3.10/site-packages/sklearn/metrics/_classification.py:1531: UndefinedMetricWarning: Precision is ill-defined and being set to 0.0 in labels with no predicted samples. Use `zero_division` parameter to control this behavior.\n",
      "  _warn_prf(average, modifier, f\"{metric.capitalize()} is\", len(result))\n",
      "/Users/sarvesh/anaconda3/envs/datasci/lib/python3.10/site-packages/sklearn/metrics/_classification.py:1531: UndefinedMetricWarning: Precision is ill-defined and being set to 0.0 in labels with no predicted samples. Use `zero_division` parameter to control this behavior.\n",
      "  _warn_prf(average, modifier, f\"{metric.capitalize()} is\", len(result))\n"
     ]
    },
    {
     "name": "stdout",
     "output_type": "stream",
     "text": [
      "✅ Accuracy: 0.6698 | F1 (weighted): 0.6047\n",
      "\n",
      "🔄 Testing on S4 (LOSO fold 10/15)\n"
     ]
    },
    {
     "name": "stderr",
     "output_type": "stream",
     "text": [
      "/Users/sarvesh/anaconda3/envs/datasci/lib/python3.10/site-packages/sklearn/metrics/_classification.py:1531: UndefinedMetricWarning: Precision is ill-defined and being set to 0.0 in labels with no predicted samples. Use `zero_division` parameter to control this behavior.\n",
      "  _warn_prf(average, modifier, f\"{metric.capitalize()} is\", len(result))\n",
      "/Users/sarvesh/anaconda3/envs/datasci/lib/python3.10/site-packages/sklearn/metrics/_classification.py:1531: UndefinedMetricWarning: Precision is ill-defined and being set to 0.0 in labels with no predicted samples. Use `zero_division` parameter to control this behavior.\n",
      "  _warn_prf(average, modifier, f\"{metric.capitalize()} is\", len(result))\n",
      "/Users/sarvesh/anaconda3/envs/datasci/lib/python3.10/site-packages/sklearn/metrics/_classification.py:1531: UndefinedMetricWarning: Precision is ill-defined and being set to 0.0 in labels with no predicted samples. Use `zero_division` parameter to control this behavior.\n",
      "  _warn_prf(average, modifier, f\"{metric.capitalize()} is\", len(result))\n"
     ]
    },
    {
     "name": "stdout",
     "output_type": "stream",
     "text": [
      "✅ Accuracy: 0.5211 | F1 (weighted): 0.4688\n",
      "\n",
      "🔄 Testing on S5 (LOSO fold 11/15)\n"
     ]
    },
    {
     "name": "stderr",
     "output_type": "stream",
     "text": [
      "/Users/sarvesh/anaconda3/envs/datasci/lib/python3.10/site-packages/sklearn/metrics/_classification.py:1531: UndefinedMetricWarning: Precision is ill-defined and being set to 0.0 in labels with no predicted samples. Use `zero_division` parameter to control this behavior.\n",
      "  _warn_prf(average, modifier, f\"{metric.capitalize()} is\", len(result))\n",
      "/Users/sarvesh/anaconda3/envs/datasci/lib/python3.10/site-packages/sklearn/metrics/_classification.py:1531: UndefinedMetricWarning: Precision is ill-defined and being set to 0.0 in labels with no predicted samples. Use `zero_division` parameter to control this behavior.\n",
      "  _warn_prf(average, modifier, f\"{metric.capitalize()} is\", len(result))\n",
      "/Users/sarvesh/anaconda3/envs/datasci/lib/python3.10/site-packages/sklearn/metrics/_classification.py:1531: UndefinedMetricWarning: Precision is ill-defined and being set to 0.0 in labels with no predicted samples. Use `zero_division` parameter to control this behavior.\n",
      "  _warn_prf(average, modifier, f\"{metric.capitalize()} is\", len(result))\n"
     ]
    },
    {
     "name": "stdout",
     "output_type": "stream",
     "text": [
      "✅ Accuracy: 0.6715 | F1 (weighted): 0.6278\n",
      "\n",
      "🔄 Testing on S6 (LOSO fold 12/15)\n"
     ]
    },
    {
     "name": "stderr",
     "output_type": "stream",
     "text": [
      "/Users/sarvesh/anaconda3/envs/datasci/lib/python3.10/site-packages/sklearn/metrics/_classification.py:1531: UndefinedMetricWarning: Precision is ill-defined and being set to 0.0 in labels with no predicted samples. Use `zero_division` parameter to control this behavior.\n",
      "  _warn_prf(average, modifier, f\"{metric.capitalize()} is\", len(result))\n",
      "/Users/sarvesh/anaconda3/envs/datasci/lib/python3.10/site-packages/sklearn/metrics/_classification.py:1531: UndefinedMetricWarning: Precision is ill-defined and being set to 0.0 in labels with no predicted samples. Use `zero_division` parameter to control this behavior.\n",
      "  _warn_prf(average, modifier, f\"{metric.capitalize()} is\", len(result))\n",
      "/Users/sarvesh/anaconda3/envs/datasci/lib/python3.10/site-packages/sklearn/metrics/_classification.py:1531: UndefinedMetricWarning: Precision is ill-defined and being set to 0.0 in labels with no predicted samples. Use `zero_division` parameter to control this behavior.\n",
      "  _warn_prf(average, modifier, f\"{metric.capitalize()} is\", len(result))\n"
     ]
    },
    {
     "name": "stdout",
     "output_type": "stream",
     "text": [
      "✅ Accuracy: 0.7393 | F1 (weighted): 0.7003\n",
      "\n",
      "🔄 Testing on S7 (LOSO fold 13/15)\n"
     ]
    },
    {
     "name": "stderr",
     "output_type": "stream",
     "text": [
      "/Users/sarvesh/anaconda3/envs/datasci/lib/python3.10/site-packages/sklearn/metrics/_classification.py:1531: UndefinedMetricWarning: Precision is ill-defined and being set to 0.0 in labels with no predicted samples. Use `zero_division` parameter to control this behavior.\n",
      "  _warn_prf(average, modifier, f\"{metric.capitalize()} is\", len(result))\n",
      "/Users/sarvesh/anaconda3/envs/datasci/lib/python3.10/site-packages/sklearn/metrics/_classification.py:1531: UndefinedMetricWarning: Precision is ill-defined and being set to 0.0 in labels with no predicted samples. Use `zero_division` parameter to control this behavior.\n",
      "  _warn_prf(average, modifier, f\"{metric.capitalize()} is\", len(result))\n",
      "/Users/sarvesh/anaconda3/envs/datasci/lib/python3.10/site-packages/sklearn/metrics/_classification.py:1531: UndefinedMetricWarning: Precision is ill-defined and being set to 0.0 in labels with no predicted samples. Use `zero_division` parameter to control this behavior.\n",
      "  _warn_prf(average, modifier, f\"{metric.capitalize()} is\", len(result))\n"
     ]
    },
    {
     "name": "stdout",
     "output_type": "stream",
     "text": [
      "✅ Accuracy: 0.5029 | F1 (weighted): 0.4212\n",
      "\n",
      "🔄 Testing on S8 (LOSO fold 14/15)\n"
     ]
    },
    {
     "name": "stderr",
     "output_type": "stream",
     "text": [
      "/Users/sarvesh/anaconda3/envs/datasci/lib/python3.10/site-packages/sklearn/metrics/_classification.py:1531: UndefinedMetricWarning: Precision is ill-defined and being set to 0.0 in labels with no predicted samples. Use `zero_division` parameter to control this behavior.\n",
      "  _warn_prf(average, modifier, f\"{metric.capitalize()} is\", len(result))\n",
      "/Users/sarvesh/anaconda3/envs/datasci/lib/python3.10/site-packages/sklearn/metrics/_classification.py:1531: UndefinedMetricWarning: Precision is ill-defined and being set to 0.0 in labels with no predicted samples. Use `zero_division` parameter to control this behavior.\n",
      "  _warn_prf(average, modifier, f\"{metric.capitalize()} is\", len(result))\n",
      "/Users/sarvesh/anaconda3/envs/datasci/lib/python3.10/site-packages/sklearn/metrics/_classification.py:1531: UndefinedMetricWarning: Precision is ill-defined and being set to 0.0 in labels with no predicted samples. Use `zero_division` parameter to control this behavior.\n",
      "  _warn_prf(average, modifier, f\"{metric.capitalize()} is\", len(result))\n"
     ]
    },
    {
     "name": "stdout",
     "output_type": "stream",
     "text": [
      "✅ Accuracy: 0.4088 | F1 (weighted): 0.3340\n",
      "\n",
      "🔄 Testing on S9 (LOSO fold 15/15)\n",
      "✅ Accuracy: 0.6994 | F1 (weighted): 0.6611\n"
     ]
    },
    {
     "name": "stderr",
     "output_type": "stream",
     "text": [
      "/Users/sarvesh/anaconda3/envs/datasci/lib/python3.10/site-packages/sklearn/metrics/_classification.py:1531: UndefinedMetricWarning: Precision is ill-defined and being set to 0.0 in labels with no predicted samples. Use `zero_division` parameter to control this behavior.\n",
      "  _warn_prf(average, modifier, f\"{metric.capitalize()} is\", len(result))\n",
      "/Users/sarvesh/anaconda3/envs/datasci/lib/python3.10/site-packages/sklearn/metrics/_classification.py:1531: UndefinedMetricWarning: Precision is ill-defined and being set to 0.0 in labels with no predicted samples. Use `zero_division` parameter to control this behavior.\n",
      "  _warn_prf(average, modifier, f\"{metric.capitalize()} is\", len(result))\n",
      "/Users/sarvesh/anaconda3/envs/datasci/lib/python3.10/site-packages/sklearn/metrics/_classification.py:1531: UndefinedMetricWarning: Precision is ill-defined and being set to 0.0 in labels with no predicted samples. Use `zero_division` parameter to control this behavior.\n",
      "  _warn_prf(average, modifier, f\"{metric.capitalize()} is\", len(result))\n"
     ]
    }
   ],
   "source": [
    "# Step 3: LOSO loop\n",
    "for i, test_subj in enumerate(subject_ids):\n",
    "    print(f\"\\n🔄 Testing on {test_subj} (LOSO fold {i+1}/{len(subject_ids)})\")\n",
    "\n",
    "    test_df = pd.read_csv(file_paths[i])\n",
    "    train_dfs = [pd.read_csv(f) for j, f in enumerate(file_paths) if j != i]\n",
    "    train_df = pd.concat(train_dfs, ignore_index=True)\n",
    "\n",
    "    # 🟢 No binary filtering; use all available labels\n",
    "    X_train, y_train = train_df.drop(columns=['label']), train_df['label']\n",
    "    X_test, y_test = test_df.drop(columns=['label']), test_df['label']\n",
    "\n",
    "    # Step 4: Train model\n",
    "    model = RandomForestClassifier(n_estimators=100, random_state=42)\n",
    "    model.fit(X_train, y_train)\n",
    "\n",
    "    # Step 5: Evaluate\n",
    "    y_pred = model.predict(X_test)\n",
    "    acc = accuracy_score(y_test, y_pred)\n",
    "    f1 = f1_score(y_test, y_pred, average='weighted')  # 🟢 Weighted F1 for multiclass\n",
    "\n",
    "    accuracies.append(acc)\n",
    "    f1s.append(f1)\n",
    "    per_subject_reports[test_subj] = classification_report(y_test, y_pred, output_dict=True)\n",
    "\n",
    "    print(f\"✅ Accuracy: {acc:.4f} | F1 (weighted): {f1:.4f}\")"
   ]
  },
  {
   "cell_type": "markdown",
   "id": "0ba340fc",
   "metadata": {},
   "source": []
  },
  {
   "cell_type": "code",
   "execution_count": 10,
   "id": "c776023a",
   "metadata": {},
   "outputs": [
    {
     "name": "stdout",
     "output_type": "stream",
     "text": [
      "Collecting xgboost\n",
      "  Downloading xgboost-3.0.0-py3-none-macosx_12_0_arm64.whl.metadata (2.1 kB)\n",
      "Requirement already satisfied: numpy in /Users/sarvesh/anaconda3/envs/datasci/lib/python3.10/site-packages (from xgboost) (1.26.4)\n",
      "Requirement already satisfied: scipy in /Users/sarvesh/anaconda3/envs/datasci/lib/python3.10/site-packages (from xgboost) (1.14.1)\n",
      "Downloading xgboost-3.0.0-py3-none-macosx_12_0_arm64.whl (2.0 MB)\n",
      "\u001b[2K   \u001b[90m━━━━━━━━━━━━━━━━━━━━━━━━━━━━━━━━━━━━━━━━\u001b[0m \u001b[32m2.0/2.0 MB\u001b[0m \u001b[31m31.8 MB/s\u001b[0m eta \u001b[36m0:00:00\u001b[0m\n",
      "\u001b[?25hInstalling collected packages: xgboost\n",
      "Successfully installed xgboost-3.0.0\n"
     ]
    }
   ],
   "source": [
    "!pip3 install xgboost"
   ]
  },
  {
   "cell_type": "code",
   "execution_count": 11,
   "id": "02ff604a",
   "metadata": {},
   "outputs": [],
   "source": [
    "from xgboost import XGBClassifier\n",
    "from sklearn.metrics import accuracy_score, f1_score, classification_report\n",
    "import pandas as pd\n",
    "import numpy as np\n",
    "from glob import glob\n",
    "import os\n"
   ]
  },
  {
   "cell_type": "code",
   "execution_count": 13,
   "id": "da5e4a4f",
   "metadata": {},
   "outputs": [
    {
     "name": "stdout",
     "output_type": "stream",
     "text": [
      "\n",
      "🔄 Testing on S10 (LOSO fold 1/15)\n"
     ]
    },
    {
     "name": "stderr",
     "output_type": "stream",
     "text": [
      "/Users/sarvesh/anaconda3/envs/datasci/lib/python3.10/site-packages/xgboost/training.py:183: UserWarning: [08:28:25] WARNING: /Users/runner/work/xgboost/xgboost/src/learner.cc:738: \n",
      "Parameters: { \"use_label_encoder\" } are not used.\n",
      "\n",
      "  bst.update(dtrain, iteration=i, fobj=obj)\n"
     ]
    },
    {
     "name": "stdout",
     "output_type": "stream",
     "text": [
      "✅ Accuracy: 0.7718 | F1 (weighted): 0.7427\n",
      "\n",
      "🔄 Testing on S11 (LOSO fold 2/15)\n"
     ]
    },
    {
     "name": "stderr",
     "output_type": "stream",
     "text": [
      "/Users/sarvesh/anaconda3/envs/datasci/lib/python3.10/site-packages/xgboost/training.py:183: UserWarning: [08:28:26] WARNING: /Users/runner/work/xgboost/xgboost/src/learner.cc:738: \n",
      "Parameters: { \"use_label_encoder\" } are not used.\n",
      "\n",
      "  bst.update(dtrain, iteration=i, fobj=obj)\n"
     ]
    },
    {
     "name": "stdout",
     "output_type": "stream",
     "text": [
      "✅ Accuracy: 0.6503 | F1 (weighted): 0.6573\n",
      "\n",
      "🔄 Testing on S13 (LOSO fold 3/15)\n"
     ]
    },
    {
     "name": "stderr",
     "output_type": "stream",
     "text": [
      "/Users/sarvesh/anaconda3/envs/datasci/lib/python3.10/site-packages/xgboost/training.py:183: UserWarning: [08:28:26] WARNING: /Users/runner/work/xgboost/xgboost/src/learner.cc:738: \n",
      "Parameters: { \"use_label_encoder\" } are not used.\n",
      "\n",
      "  bst.update(dtrain, iteration=i, fobj=obj)\n"
     ]
    },
    {
     "name": "stdout",
     "output_type": "stream",
     "text": [
      "✅ Accuracy: 0.7237 | F1 (weighted): 0.6835\n",
      "\n",
      "🔄 Testing on S14 (LOSO fold 4/15)\n"
     ]
    },
    {
     "name": "stderr",
     "output_type": "stream",
     "text": [
      "/Users/sarvesh/anaconda3/envs/datasci/lib/python3.10/site-packages/xgboost/training.py:183: UserWarning: [08:28:26] WARNING: /Users/runner/work/xgboost/xgboost/src/learner.cc:738: \n",
      "Parameters: { \"use_label_encoder\" } are not used.\n",
      "\n",
      "  bst.update(dtrain, iteration=i, fobj=obj)\n",
      "/Users/sarvesh/anaconda3/envs/datasci/lib/python3.10/site-packages/sklearn/metrics/_classification.py:1531: UndefinedMetricWarning: Precision is ill-defined and being set to 0.0 in labels with no predicted samples. Use `zero_division` parameter to control this behavior.\n",
      "  _warn_prf(average, modifier, f\"{metric.capitalize()} is\", len(result))\n",
      "/Users/sarvesh/anaconda3/envs/datasci/lib/python3.10/site-packages/sklearn/metrics/_classification.py:1531: UndefinedMetricWarning: Precision is ill-defined and being set to 0.0 in labels with no predicted samples. Use `zero_division` parameter to control this behavior.\n",
      "  _warn_prf(average, modifier, f\"{metric.capitalize()} is\", len(result))\n",
      "/Users/sarvesh/anaconda3/envs/datasci/lib/python3.10/site-packages/sklearn/metrics/_classification.py:1531: UndefinedMetricWarning: Precision is ill-defined and being set to 0.0 in labels with no predicted samples. Use `zero_division` parameter to control this behavior.\n",
      "  _warn_prf(average, modifier, f\"{metric.capitalize()} is\", len(result))\n",
      "/Users/sarvesh/anaconda3/envs/datasci/lib/python3.10/site-packages/xgboost/training.py:183: UserWarning: [08:28:27] WARNING: /Users/runner/work/xgboost/xgboost/src/learner.cc:738: \n",
      "Parameters: { \"use_label_encoder\" } are not used.\n",
      "\n",
      "  bst.update(dtrain, iteration=i, fobj=obj)\n"
     ]
    },
    {
     "name": "stdout",
     "output_type": "stream",
     "text": [
      "✅ Accuracy: 0.5960 | F1 (weighted): 0.5413\n",
      "\n",
      "🔄 Testing on S15 (LOSO fold 5/15)\n"
     ]
    },
    {
     "name": "stderr",
     "output_type": "stream",
     "text": [
      "/Users/sarvesh/anaconda3/envs/datasci/lib/python3.10/site-packages/sklearn/metrics/_classification.py:1531: UndefinedMetricWarning: Precision is ill-defined and being set to 0.0 in labels with no predicted samples. Use `zero_division` parameter to control this behavior.\n",
      "  _warn_prf(average, modifier, f\"{metric.capitalize()} is\", len(result))\n",
      "/Users/sarvesh/anaconda3/envs/datasci/lib/python3.10/site-packages/sklearn/metrics/_classification.py:1531: UndefinedMetricWarning: Precision is ill-defined and being set to 0.0 in labels with no predicted samples. Use `zero_division` parameter to control this behavior.\n",
      "  _warn_prf(average, modifier, f\"{metric.capitalize()} is\", len(result))\n",
      "/Users/sarvesh/anaconda3/envs/datasci/lib/python3.10/site-packages/sklearn/metrics/_classification.py:1531: UndefinedMetricWarning: Precision is ill-defined and being set to 0.0 in labels with no predicted samples. Use `zero_division` parameter to control this behavior.\n",
      "  _warn_prf(average, modifier, f\"{metric.capitalize()} is\", len(result))\n",
      "/Users/sarvesh/anaconda3/envs/datasci/lib/python3.10/site-packages/xgboost/training.py:183: UserWarning: [08:28:27] WARNING: /Users/runner/work/xgboost/xgboost/src/learner.cc:738: \n",
      "Parameters: { \"use_label_encoder\" } are not used.\n",
      "\n",
      "  bst.update(dtrain, iteration=i, fobj=obj)\n"
     ]
    },
    {
     "name": "stdout",
     "output_type": "stream",
     "text": [
      "✅ Accuracy: 0.6713 | F1 (weighted): 0.6071\n",
      "\n",
      "🔄 Testing on S16 (LOSO fold 6/15)\n",
      "✅ Accuracy: 0.7338 | F1 (weighted): 0.7195\n",
      "\n",
      "🔄 Testing on S17 (LOSO fold 7/15)\n"
     ]
    },
    {
     "name": "stderr",
     "output_type": "stream",
     "text": [
      "/Users/sarvesh/anaconda3/envs/datasci/lib/python3.10/site-packages/xgboost/training.py:183: UserWarning: [08:28:27] WARNING: /Users/runner/work/xgboost/xgboost/src/learner.cc:738: \n",
      "Parameters: { \"use_label_encoder\" } are not used.\n",
      "\n",
      "  bst.update(dtrain, iteration=i, fobj=obj)\n"
     ]
    },
    {
     "name": "stdout",
     "output_type": "stream",
     "text": [
      "✅ Accuracy: 0.6506 | F1 (weighted): 0.6528\n",
      "\n",
      "🔄 Testing on S2 (LOSO fold 8/15)\n"
     ]
    },
    {
     "name": "stderr",
     "output_type": "stream",
     "text": [
      "/Users/sarvesh/anaconda3/envs/datasci/lib/python3.10/site-packages/xgboost/training.py:183: UserWarning: [08:28:28] WARNING: /Users/runner/work/xgboost/xgboost/src/learner.cc:738: \n",
      "Parameters: { \"use_label_encoder\" } are not used.\n",
      "\n",
      "  bst.update(dtrain, iteration=i, fobj=obj)\n",
      "/Users/sarvesh/anaconda3/envs/datasci/lib/python3.10/site-packages/sklearn/metrics/_classification.py:1531: UndefinedMetricWarning: Precision is ill-defined and being set to 0.0 in labels with no predicted samples. Use `zero_division` parameter to control this behavior.\n",
      "  _warn_prf(average, modifier, f\"{metric.capitalize()} is\", len(result))\n",
      "/Users/sarvesh/anaconda3/envs/datasci/lib/python3.10/site-packages/sklearn/metrics/_classification.py:1531: UndefinedMetricWarning: Precision is ill-defined and being set to 0.0 in labels with no predicted samples. Use `zero_division` parameter to control this behavior.\n",
      "  _warn_prf(average, modifier, f\"{metric.capitalize()} is\", len(result))\n",
      "/Users/sarvesh/anaconda3/envs/datasci/lib/python3.10/site-packages/sklearn/metrics/_classification.py:1531: UndefinedMetricWarning: Precision is ill-defined and being set to 0.0 in labels with no predicted samples. Use `zero_division` parameter to control this behavior.\n",
      "  _warn_prf(average, modifier, f\"{metric.capitalize()} is\", len(result))\n",
      "/Users/sarvesh/anaconda3/envs/datasci/lib/python3.10/site-packages/xgboost/training.py:183: UserWarning: [08:28:28] WARNING: /Users/runner/work/xgboost/xgboost/src/learner.cc:738: \n",
      "Parameters: { \"use_label_encoder\" } are not used.\n",
      "\n",
      "  bst.update(dtrain, iteration=i, fobj=obj)\n"
     ]
    },
    {
     "name": "stdout",
     "output_type": "stream",
     "text": [
      "✅ Accuracy: 0.5698 | F1 (weighted): 0.4756\n",
      "\n",
      "🔄 Testing on S3 (LOSO fold 9/15)\n",
      "✅ Accuracy: 0.7198 | F1 (weighted): 0.6878\n",
      "\n",
      "🔄 Testing on S4 (LOSO fold 10/15)\n"
     ]
    },
    {
     "name": "stderr",
     "output_type": "stream",
     "text": [
      "/Users/sarvesh/anaconda3/envs/datasci/lib/python3.10/site-packages/xgboost/training.py:183: UserWarning: [08:28:29] WARNING: /Users/runner/work/xgboost/xgboost/src/learner.cc:738: \n",
      "Parameters: { \"use_label_encoder\" } are not used.\n",
      "\n",
      "  bst.update(dtrain, iteration=i, fobj=obj)\n"
     ]
    },
    {
     "name": "stdout",
     "output_type": "stream",
     "text": [
      "✅ Accuracy: 0.4944 | F1 (weighted): 0.4619\n",
      "\n",
      "🔄 Testing on S5 (LOSO fold 11/15)\n"
     ]
    },
    {
     "name": "stderr",
     "output_type": "stream",
     "text": [
      "/Users/sarvesh/anaconda3/envs/datasci/lib/python3.10/site-packages/xgboost/training.py:183: UserWarning: [08:28:29] WARNING: /Users/runner/work/xgboost/xgboost/src/learner.cc:738: \n",
      "Parameters: { \"use_label_encoder\" } are not used.\n",
      "\n",
      "  bst.update(dtrain, iteration=i, fobj=obj)\n"
     ]
    },
    {
     "name": "stdout",
     "output_type": "stream",
     "text": [
      "✅ Accuracy: 0.6818 | F1 (weighted): 0.6556\n",
      "\n",
      "🔄 Testing on S6 (LOSO fold 12/15)\n"
     ]
    },
    {
     "name": "stderr",
     "output_type": "stream",
     "text": [
      "/Users/sarvesh/anaconda3/envs/datasci/lib/python3.10/site-packages/xgboost/training.py:183: UserWarning: [08:28:29] WARNING: /Users/runner/work/xgboost/xgboost/src/learner.cc:738: \n",
      "Parameters: { \"use_label_encoder\" } are not used.\n",
      "\n",
      "  bst.update(dtrain, iteration=i, fobj=obj)\n",
      "/Users/sarvesh/anaconda3/envs/datasci/lib/python3.10/site-packages/sklearn/metrics/_classification.py:1531: UndefinedMetricWarning: Precision is ill-defined and being set to 0.0 in labels with no predicted samples. Use `zero_division` parameter to control this behavior.\n",
      "  _warn_prf(average, modifier, f\"{metric.capitalize()} is\", len(result))\n",
      "/Users/sarvesh/anaconda3/envs/datasci/lib/python3.10/site-packages/sklearn/metrics/_classification.py:1531: UndefinedMetricWarning: Precision is ill-defined and being set to 0.0 in labels with no predicted samples. Use `zero_division` parameter to control this behavior.\n",
      "  _warn_prf(average, modifier, f\"{metric.capitalize()} is\", len(result))\n",
      "/Users/sarvesh/anaconda3/envs/datasci/lib/python3.10/site-packages/sklearn/metrics/_classification.py:1531: UndefinedMetricWarning: Precision is ill-defined and being set to 0.0 in labels with no predicted samples. Use `zero_division` parameter to control this behavior.\n",
      "  _warn_prf(average, modifier, f\"{metric.capitalize()} is\", len(result))\n",
      "/Users/sarvesh/anaconda3/envs/datasci/lib/python3.10/site-packages/xgboost/training.py:183: UserWarning: [08:28:30] WARNING: /Users/runner/work/xgboost/xgboost/src/learner.cc:738: \n",
      "Parameters: { \"use_label_encoder\" } are not used.\n",
      "\n",
      "  bst.update(dtrain, iteration=i, fobj=obj)\n"
     ]
    },
    {
     "name": "stdout",
     "output_type": "stream",
     "text": [
      "✅ Accuracy: 0.7304 | F1 (weighted): 0.6990\n",
      "\n",
      "🔄 Testing on S7 (LOSO fold 13/15)\n",
      "✅ Accuracy: 0.4965 | F1 (weighted): 0.4962\n",
      "\n",
      "🔄 Testing on S8 (LOSO fold 14/15)\n"
     ]
    },
    {
     "name": "stderr",
     "output_type": "stream",
     "text": [
      "/Users/sarvesh/anaconda3/envs/datasci/lib/python3.10/site-packages/xgboost/training.py:183: UserWarning: [08:28:30] WARNING: /Users/runner/work/xgboost/xgboost/src/learner.cc:738: \n",
      "Parameters: { \"use_label_encoder\" } are not used.\n",
      "\n",
      "  bst.update(dtrain, iteration=i, fobj=obj)\n"
     ]
    },
    {
     "name": "stdout",
     "output_type": "stream",
     "text": [
      "✅ Accuracy: 0.3867 | F1 (weighted): 0.2937\n",
      "\n",
      "🔄 Testing on S9 (LOSO fold 15/15)\n"
     ]
    },
    {
     "name": "stderr",
     "output_type": "stream",
     "text": [
      "/Users/sarvesh/anaconda3/envs/datasci/lib/python3.10/site-packages/xgboost/training.py:183: UserWarning: [08:28:30] WARNING: /Users/runner/work/xgboost/xgboost/src/learner.cc:738: \n",
      "Parameters: { \"use_label_encoder\" } are not used.\n",
      "\n",
      "  bst.update(dtrain, iteration=i, fobj=obj)\n"
     ]
    },
    {
     "name": "stdout",
     "output_type": "stream",
     "text": [
      "✅ Accuracy: 0.7571 | F1 (weighted): 0.7255\n"
     ]
    },
    {
     "name": "stderr",
     "output_type": "stream",
     "text": [
      "/Users/sarvesh/anaconda3/envs/datasci/lib/python3.10/site-packages/sklearn/metrics/_classification.py:1531: UndefinedMetricWarning: Precision is ill-defined and being set to 0.0 in labels with no predicted samples. Use `zero_division` parameter to control this behavior.\n",
      "  _warn_prf(average, modifier, f\"{metric.capitalize()} is\", len(result))\n",
      "/Users/sarvesh/anaconda3/envs/datasci/lib/python3.10/site-packages/sklearn/metrics/_classification.py:1531: UndefinedMetricWarning: Precision is ill-defined and being set to 0.0 in labels with no predicted samples. Use `zero_division` parameter to control this behavior.\n",
      "  _warn_prf(average, modifier, f\"{metric.capitalize()} is\", len(result))\n",
      "/Users/sarvesh/anaconda3/envs/datasci/lib/python3.10/site-packages/sklearn/metrics/_classification.py:1531: UndefinedMetricWarning: Precision is ill-defined and being set to 0.0 in labels with no predicted samples. Use `zero_division` parameter to control this behavior.\n",
      "  _warn_prf(average, modifier, f\"{metric.capitalize()} is\", len(result))\n"
     ]
    }
   ],
   "source": [
    "\n",
    "# Step 1: Load all CSVs\n",
    "file_paths = sorted(glob(\"/Users/sarvesh/Desktop/wesad/data/features/S*_features.csv\")) \n",
    "subject_ids = [f.split(\"/\")[-1].split(\"_\")[0] for f in file_paths]\n",
    "\n",
    "# Step 2: Track metrics\n",
    "accuracies = []\n",
    "f1s = []\n",
    "per_subject_reports = {}\n",
    "\n",
    "# Step 3: LOSO Loop\n",
    "for i, test_subj in enumerate(subject_ids):\n",
    "    print(f\"\\n🔄 Testing on {test_subj} (LOSO fold {i+1}/{len(subject_ids)})\")\n",
    "\n",
    "    # Load test and train data\n",
    "    test_df = pd.read_csv(file_paths[i])\n",
    "    train_dfs = [pd.read_csv(f) for j, f in enumerate(file_paths) if j != i]\n",
    "    train_df = pd.concat(train_dfs, ignore_index=True)\n",
    "\n",
    "    # Filter to valid classes (e.g., 0: baseline, 1: stress, 2: amusement, 3: meditation)    offset by 1 as XGBoost expects [0,1,2,3]\n",
    "    valid_classes = [0, 1, 2, 3]\n",
    "    train_df = train_df[train_df['label'].isin(valid_classes)]\n",
    "    test_df = test_df[test_df['label'].isin(valid_classes)]\n",
    "\n",
    "    # Prepare features and labels\n",
    "    X_train, y_train = train_df.drop(columns=['label']), train_df['label']\n",
    "    X_test, y_test = test_df.drop(columns=['label']), test_df['label']\n",
    "\n",
    "    # Step 4: Train XGBoost model\n",
    "    model = XGBClassifier(objective='multi:softprob', num_class=4, eval_metric='mlogloss', use_label_encoder=False)\n",
    "    model.fit(X_train, y_train)\n",
    "\n",
    "    # Step 5: Evaluate\n",
    "    y_pred = model.predict(X_test)\n",
    "    acc = accuracy_score(y_test, y_pred)\n",
    "    f1 = f1_score(y_test, y_pred, average='weighted')\n",
    "\n",
    "    accuracies.append(acc)\n",
    "    f1s.append(f1)\n",
    "    per_subject_reports[test_subj] = classification_report(y_test, y_pred, output_dict=True)\n",
    "\n",
    "    print(f\"✅ Accuracy: {acc:.4f} | F1 (weighted): {f1:.4f}\")\n"
   ]
  },
  {
   "cell_type": "code",
   "execution_count": 14,
   "id": "b29c994c",
   "metadata": {},
   "outputs": [
    {
     "name": "stdout",
     "output_type": "stream",
     "text": [
      "\n",
      "📈 LOSO XGBoost Multiclass Summary:\n",
      "Average Accuracy: 0.6423\n",
      "Average F1 Score:  0.6066\n"
     ]
    }
   ],
   "source": [
    "print(\"\\n📈 LOSO XGBoost Multiclass Summary:\")\n",
    "print(f\"Average Accuracy: {np.mean(accuracies):.4f}\")\n",
    "print(f\"Average F1 Score:  {np.mean(f1s):.4f}\")\n"
   ]
  },
  {
   "cell_type": "code",
   "execution_count": null,
   "id": "8f947048",
   "metadata": {},
   "outputs": [],
   "source": []
  },
  {
   "cell_type": "code",
   "execution_count": 15,
   "id": "563b9431",
   "metadata": {},
   "outputs": [],
   "source": [
    "y_pred_orig = y_pred + 1\n",
    "y_test_orig = y_test + 1\n"
   ]
  },
  {
   "cell_type": "code",
   "execution_count": 16,
   "id": "d59eb08f",
   "metadata": {},
   "outputs": [
    {
     "name": "stdout",
     "output_type": "stream",
     "text": [
      "                precision    recall  f1-score   support\n",
      "\n",
      "  Baseline (1)       0.76      0.78      0.77        68\n",
      "    Stress (2)       0.88      0.95      0.91        39\n",
      " Amusement (3)       0.57      0.76      0.65        21\n",
      "Meditation (4)       0.00      0.00      0.00        12\n",
      "\n",
      "      accuracy                           0.76       140\n",
      "     macro avg       0.55      0.62      0.58       140\n",
      "  weighted avg       0.70      0.76      0.73       140\n",
      "\n"
     ]
    },
    {
     "name": "stderr",
     "output_type": "stream",
     "text": [
      "/Users/sarvesh/anaconda3/envs/datasci/lib/python3.10/site-packages/sklearn/metrics/_classification.py:1531: UndefinedMetricWarning: Precision is ill-defined and being set to 0.0 in labels with no predicted samples. Use `zero_division` parameter to control this behavior.\n",
      "  _warn_prf(average, modifier, f\"{metric.capitalize()} is\", len(result))\n",
      "/Users/sarvesh/anaconda3/envs/datasci/lib/python3.10/site-packages/sklearn/metrics/_classification.py:1531: UndefinedMetricWarning: Precision is ill-defined and being set to 0.0 in labels with no predicted samples. Use `zero_division` parameter to control this behavior.\n",
      "  _warn_prf(average, modifier, f\"{metric.capitalize()} is\", len(result))\n",
      "/Users/sarvesh/anaconda3/envs/datasci/lib/python3.10/site-packages/sklearn/metrics/_classification.py:1531: UndefinedMetricWarning: Precision is ill-defined and being set to 0.0 in labels with no predicted samples. Use `zero_division` parameter to control this behavior.\n",
      "  _warn_prf(average, modifier, f\"{metric.capitalize()} is\", len(result))\n"
     ]
    }
   ],
   "source": [
    "from sklearn.metrics import classification_report\n",
    "\n",
    "class_names = ['Baseline (1)', 'Stress (2)', 'Amusement (3)', 'Meditation (4)']\n",
    "print(classification_report(y_test_orig, y_pred_orig, target_names=class_names))\n"
   ]
  }
 ],
 "metadata": {
  "kernelspec": {
   "display_name": "datasci",
   "language": "python",
   "name": "python3"
  },
  "language_info": {
   "codemirror_mode": {
    "name": "ipython",
    "version": 3
   },
   "file_extension": ".py",
   "mimetype": "text/x-python",
   "name": "python",
   "nbconvert_exporter": "python",
   "pygments_lexer": "ipython3",
   "version": "3.10.16"
  }
 },
 "nbformat": 4,
 "nbformat_minor": 5
}
